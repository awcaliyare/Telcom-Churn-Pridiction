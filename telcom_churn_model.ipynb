{
 "cells": [
  {
   "cell_type": "markdown",
   "metadata": {},
   "source": [
    "# Import Libraries"
   ]
  },
  {
   "cell_type": "code",
   "execution_count": 83,
   "metadata": {},
   "outputs": [],
   "source": [
    "import pandas as pd\n",
    "import numpy as np\n",
    "import matplotlib.pyplot as plt\n",
    "import seaborn as sns\n",
    "from sklearn.model_selection import train_test_split, GridSearchCV\n",
    "from sklearn.preprocessing import LabelEncoder, StandardScaler, MinMaxScaler\n",
    "from sklearn.ensemble import RandomForestClassifier\n",
    "from sklearn.linear_model import LogisticRegression\n",
    "from sklearn.metrics import (\n",
    "    classification_report,\n",
    "    confusion_matrix,\n",
    "    roc_auc_score,\n",
    "    roc_curve,\n",
    "    accuracy_score\n",
    ")\n",
    "from imblearn.over_sampling import SMOTE\n",
    "import pickle\n",
    "import warnings\n",
    "warnings.filterwarnings('ignore')"
   ]
  },
  {
   "cell_type": "markdown",
   "metadata": {},
   "source": [
    "#### Problem Definition\n",
    "- **Goal:** Predict telecom customer churn using demographic, account, and service data.\n",
    "- **Impact:** Retain at-risk customers and reduce churn-related revenue loss."
   ]
  },
  {
   "cell_type": "markdown",
   "metadata": {},
   "source": [
    "### 1. Data Cleaning"
   ]
  },
  {
   "cell_type": "code",
   "execution_count": 84,
   "metadata": {},
   "outputs": [],
   "source": [
    "# Load dataset\n",
    "df = pd.read_csv('Telco_Churn_data.csv')"
   ]
  },
  {
   "cell_type": "markdown",
   "metadata": {},
   "source": [
    "**Display initial dataset information**"
   ]
  },
  {
   "cell_type": "code",
   "execution_count": 85,
   "metadata": {},
   "outputs": [
    {
     "data": {
      "text/html": [
       "<div>\n",
       "<style scoped>\n",
       "    .dataframe tbody tr th:only-of-type {\n",
       "        vertical-align: middle;\n",
       "    }\n",
       "\n",
       "    .dataframe tbody tr th {\n",
       "        vertical-align: top;\n",
       "    }\n",
       "\n",
       "    .dataframe thead th {\n",
       "        text-align: right;\n",
       "    }\n",
       "</style>\n",
       "<table border=\"1\" class=\"dataframe\">\n",
       "  <thead>\n",
       "    <tr style=\"text-align: right;\">\n",
       "      <th></th>\n",
       "      <th>customerID</th>\n",
       "      <th>gender</th>\n",
       "      <th>SeniorCitizen</th>\n",
       "      <th>Partner</th>\n",
       "      <th>Dependents</th>\n",
       "      <th>tenure</th>\n",
       "      <th>PhoneService</th>\n",
       "      <th>MultipleLines</th>\n",
       "      <th>InternetService</th>\n",
       "      <th>OnlineSecurity</th>\n",
       "      <th>...</th>\n",
       "      <th>DeviceProtection</th>\n",
       "      <th>TechSupport</th>\n",
       "      <th>StreamingTV</th>\n",
       "      <th>StreamingMovies</th>\n",
       "      <th>Contract</th>\n",
       "      <th>PaperlessBilling</th>\n",
       "      <th>PaymentMethod</th>\n",
       "      <th>MonthlyCharges</th>\n",
       "      <th>TotalCharges</th>\n",
       "      <th>Churn</th>\n",
       "    </tr>\n",
       "  </thead>\n",
       "  <tbody>\n",
       "    <tr>\n",
       "      <th>0</th>\n",
       "      <td>7590-VHVEG</td>\n",
       "      <td>Female</td>\n",
       "      <td>0</td>\n",
       "      <td>Yes</td>\n",
       "      <td>No</td>\n",
       "      <td>1</td>\n",
       "      <td>No</td>\n",
       "      <td>No phone service</td>\n",
       "      <td>DSL</td>\n",
       "      <td>No</td>\n",
       "      <td>...</td>\n",
       "      <td>No</td>\n",
       "      <td>No</td>\n",
       "      <td>No</td>\n",
       "      <td>No</td>\n",
       "      <td>Month-to-month</td>\n",
       "      <td>Yes</td>\n",
       "      <td>Electronic check</td>\n",
       "      <td>29.85</td>\n",
       "      <td>29.85</td>\n",
       "      <td>No</td>\n",
       "    </tr>\n",
       "    <tr>\n",
       "      <th>1</th>\n",
       "      <td>5575-GNVDE</td>\n",
       "      <td>Male</td>\n",
       "      <td>0</td>\n",
       "      <td>No</td>\n",
       "      <td>No</td>\n",
       "      <td>34</td>\n",
       "      <td>Yes</td>\n",
       "      <td>No</td>\n",
       "      <td>DSL</td>\n",
       "      <td>Yes</td>\n",
       "      <td>...</td>\n",
       "      <td>Yes</td>\n",
       "      <td>No</td>\n",
       "      <td>No</td>\n",
       "      <td>No</td>\n",
       "      <td>One year</td>\n",
       "      <td>No</td>\n",
       "      <td>Mailed check</td>\n",
       "      <td>56.95</td>\n",
       "      <td>1889.5</td>\n",
       "      <td>No</td>\n",
       "    </tr>\n",
       "    <tr>\n",
       "      <th>2</th>\n",
       "      <td>3668-QPYBK</td>\n",
       "      <td>Male</td>\n",
       "      <td>0</td>\n",
       "      <td>No</td>\n",
       "      <td>No</td>\n",
       "      <td>2</td>\n",
       "      <td>Yes</td>\n",
       "      <td>No</td>\n",
       "      <td>DSL</td>\n",
       "      <td>Yes</td>\n",
       "      <td>...</td>\n",
       "      <td>No</td>\n",
       "      <td>No</td>\n",
       "      <td>No</td>\n",
       "      <td>No</td>\n",
       "      <td>Month-to-month</td>\n",
       "      <td>Yes</td>\n",
       "      <td>Mailed check</td>\n",
       "      <td>53.85</td>\n",
       "      <td>108.15</td>\n",
       "      <td>Yes</td>\n",
       "    </tr>\n",
       "    <tr>\n",
       "      <th>3</th>\n",
       "      <td>7795-CFOCW</td>\n",
       "      <td>Male</td>\n",
       "      <td>0</td>\n",
       "      <td>No</td>\n",
       "      <td>No</td>\n",
       "      <td>45</td>\n",
       "      <td>No</td>\n",
       "      <td>No phone service</td>\n",
       "      <td>DSL</td>\n",
       "      <td>Yes</td>\n",
       "      <td>...</td>\n",
       "      <td>Yes</td>\n",
       "      <td>Yes</td>\n",
       "      <td>No</td>\n",
       "      <td>No</td>\n",
       "      <td>One year</td>\n",
       "      <td>No</td>\n",
       "      <td>Bank transfer (automatic)</td>\n",
       "      <td>42.30</td>\n",
       "      <td>1840.75</td>\n",
       "      <td>No</td>\n",
       "    </tr>\n",
       "    <tr>\n",
       "      <th>4</th>\n",
       "      <td>9237-HQITU</td>\n",
       "      <td>Female</td>\n",
       "      <td>0</td>\n",
       "      <td>No</td>\n",
       "      <td>No</td>\n",
       "      <td>2</td>\n",
       "      <td>Yes</td>\n",
       "      <td>No</td>\n",
       "      <td>Fiber optic</td>\n",
       "      <td>No</td>\n",
       "      <td>...</td>\n",
       "      <td>No</td>\n",
       "      <td>No</td>\n",
       "      <td>No</td>\n",
       "      <td>No</td>\n",
       "      <td>Month-to-month</td>\n",
       "      <td>Yes</td>\n",
       "      <td>Electronic check</td>\n",
       "      <td>70.70</td>\n",
       "      <td>151.65</td>\n",
       "      <td>Yes</td>\n",
       "    </tr>\n",
       "  </tbody>\n",
       "</table>\n",
       "<p>5 rows × 21 columns</p>\n",
       "</div>"
      ],
      "text/plain": [
       "   customerID  gender  SeniorCitizen Partner Dependents  tenure PhoneService  \\\n",
       "0  7590-VHVEG  Female              0     Yes         No       1           No   \n",
       "1  5575-GNVDE    Male              0      No         No      34          Yes   \n",
       "2  3668-QPYBK    Male              0      No         No       2          Yes   \n",
       "3  7795-CFOCW    Male              0      No         No      45           No   \n",
       "4  9237-HQITU  Female              0      No         No       2          Yes   \n",
       "\n",
       "      MultipleLines InternetService OnlineSecurity  ... DeviceProtection  \\\n",
       "0  No phone service             DSL             No  ...               No   \n",
       "1                No             DSL            Yes  ...              Yes   \n",
       "2                No             DSL            Yes  ...               No   \n",
       "3  No phone service             DSL            Yes  ...              Yes   \n",
       "4                No     Fiber optic             No  ...               No   \n",
       "\n",
       "  TechSupport StreamingTV StreamingMovies        Contract PaperlessBilling  \\\n",
       "0          No          No              No  Month-to-month              Yes   \n",
       "1          No          No              No        One year               No   \n",
       "2          No          No              No  Month-to-month              Yes   \n",
       "3         Yes          No              No        One year               No   \n",
       "4          No          No              No  Month-to-month              Yes   \n",
       "\n",
       "               PaymentMethod MonthlyCharges  TotalCharges Churn  \n",
       "0           Electronic check          29.85         29.85    No  \n",
       "1               Mailed check          56.95        1889.5    No  \n",
       "2               Mailed check          53.85        108.15   Yes  \n",
       "3  Bank transfer (automatic)          42.30       1840.75    No  \n",
       "4           Electronic check          70.70        151.65   Yes  \n",
       "\n",
       "[5 rows x 21 columns]"
      ]
     },
     "execution_count": 85,
     "metadata": {},
     "output_type": "execute_result"
    }
   ],
   "source": [
    "df.head()"
   ]
  },
  {
   "cell_type": "code",
   "execution_count": 86,
   "metadata": {},
   "outputs": [
    {
     "name": "stdout",
     "output_type": "stream",
     "text": [
      "<class 'pandas.core.frame.DataFrame'>\n",
      "RangeIndex: 7043 entries, 0 to 7042\n",
      "Data columns (total 21 columns):\n",
      " #   Column            Non-Null Count  Dtype  \n",
      "---  ------            --------------  -----  \n",
      " 0   customerID        7043 non-null   object \n",
      " 1   gender            7043 non-null   object \n",
      " 2   SeniorCitizen     7043 non-null   int64  \n",
      " 3   Partner           7043 non-null   object \n",
      " 4   Dependents        7043 non-null   object \n",
      " 5   tenure            7043 non-null   int64  \n",
      " 6   PhoneService      7043 non-null   object \n",
      " 7   MultipleLines     7043 non-null   object \n",
      " 8   InternetService   7043 non-null   object \n",
      " 9   OnlineSecurity    7043 non-null   object \n",
      " 10  OnlineBackup      7043 non-null   object \n",
      " 11  DeviceProtection  7043 non-null   object \n",
      " 12  TechSupport       7043 non-null   object \n",
      " 13  StreamingTV       7043 non-null   object \n",
      " 14  StreamingMovies   7043 non-null   object \n",
      " 15  Contract          7043 non-null   object \n",
      " 16  PaperlessBilling  7043 non-null   object \n",
      " 17  PaymentMethod     7043 non-null   object \n",
      " 18  MonthlyCharges    7043 non-null   float64\n",
      " 19  TotalCharges      7043 non-null   object \n",
      " 20  Churn             7043 non-null   object \n",
      "dtypes: float64(1), int64(2), object(18)\n",
      "memory usage: 1.1+ MB\n"
     ]
    }
   ],
   "source": [
    "df.info()"
   ]
  },
  {
   "cell_type": "code",
   "execution_count": 87,
   "metadata": {},
   "outputs": [],
   "source": [
    "# Handle missing values\n",
    "df['TotalCharges'] = pd.to_numeric(df['TotalCharges'], errors='coerce')  # Convert TotalCharges to numeric\n",
    "df['TotalCharges'].fillna(df['TotalCharges'].median(), inplace=True)  # Impute missing TotalCharges\n",
    "\n",
    "# Handle duplicates\n",
    "df.drop_duplicates(inplace=True)"
   ]
  },
  {
   "cell_type": "code",
   "execution_count": 88,
   "metadata": {},
   "outputs": [],
   "source": [
    "# Drop unnecessary columns\n",
    "if 'customerID' in df.columns:\n",
    "    df.drop(columns=['customerID'], inplace=True)\n",
    "\n",
    "# Outlier detection and treatment\n",
    "for col in ['tenure', 'MonthlyCharges', 'TotalCharges']:\n",
    "    q1, q3 = df[col].quantile([0.25, 0.75])\n",
    "    iqr = q3 - q1\n",
    "    lower_bound = q1 - 1.5 * iqr\n",
    "    upper_bound = q3 + 1.5 * iqr\n",
    "    df[col] = np.clip(df[col], lower_bound, upper_bound)"
   ]
  },
  {
   "cell_type": "markdown",
   "metadata": {},
   "source": [
    "### 2. Exploratory Data Analysis (EDA)"
   ]
  },
  {
   "cell_type": "code",
   "execution_count": 89,
   "metadata": {},
   "outputs": [
    {
     "data": {
      "image/png": "[encoded data removed]",
      "text/plain": [
       "<Figure size 640x480 with 1 Axes>"
      ]
     },
     "metadata": {},
     "output_type": "display_data"
    }
   ],
   "source": [
    "# Univariate Analysis: Distribution of Churn\n",
    "sns.countplot(data=df, x='Churn', palette=\"Blues_r\")\n",
    "plt.title('Churn Distribution')\n",
    "plt.show()"
   ]
  },
  {
   "cell_type": "code",
   "execution_count": 90,
   "metadata": {},
   "outputs": [
    {
     "data": {
      "image/png": "[encoded data removed]",
      "text/plain": [
       "<Figure size 640x480 with 1 Axes>"
      ]
     },
     "metadata": {},
     "output_type": "display_data"
    }
   ],
   "source": [
    "# Bivariate Analysis: MonthlyCharges vs. Churn\n",
    "sns.boxplot(data=df, x='Churn', y='MonthlyCharges', palette=\"Blues_r\")\n",
    "plt.title('MonthlyCharges vs Churn')\n",
    "plt.show()"
   ]
  },
  {
   "cell_type": "code",
   "execution_count": 91,
   "metadata": {},
   "outputs": [
    {
     "data": {
      "image/png": "[encoded data removed]",
      "text/plain": [
       "<Figure size 1400x600 with 2 Axes>"
      ]
     },
     "metadata": {},
     "output_type": "display_data"
    }
   ],
   "source": [
    "# Select only numeric columns for correlation\n",
    "numeric_df = df.select_dtypes(include=[np.number])\n",
    "\n",
    "# Correlation Heatmap for Numerical Features\n",
    "plt.figure(figsize=(14, 6))\n",
    "sns.heatmap(numeric_df.corr(), annot=True, cmap=\"Blues\", fmt=\".2f\")\n",
    "plt.title('Correlation Heatmap')\n",
    "plt.show()"
   ]
  },
  {
   "cell_type": "markdown",
   "metadata": {},
   "source": [
    "### 3. Data Processing and Feature Engineering"
   ]
  },
  {
   "cell_type": "code",
   "execution_count": 92,
   "metadata": {},
   "outputs": [],
   "source": [
    "# Encode categorical features\n",
    "categorical_columns = df.select_dtypes(include=['object']).columns\n",
    "label_encoded = {}\n",
    "\n",
    "for column in categorical_columns:\n",
    "    le = LabelEncoder()\n",
    "    df[column] = le.fit_transform(df[column])\n",
    "    label_encoded[column] = le\n",
    "\n",
    "# Save encoders for future use\n",
    "with open(\"label_encoded.pkl\", \"wb\") as f:\n",
    "    pickle.dump(label_encoded, f)"
   ]
  },
  {
   "cell_type": "code",
   "execution_count": 93,
   "metadata": {},
   "outputs": [],
   "source": [
    "# Create and encode 'TenureGroup'\n",
    "df['TenureGroup'] = pd.cut(\n",
    "    df['tenure'],\n",
    "    bins=[0, 12, 24, 36, 48, 60, 72],\n",
    "    labels=['0-12', '13-24', '25-36', '37-48', '49-60', '61-72']\n",
    ")\n",
    "tenure_le = LabelEncoder()\n",
    "df['TenureGroup'] = tenure_le.fit_transform(df['TenureGroup'])\n",
    "label_encoded['TenureGroup'] = tenure_le\n",
    "\n",
    "# Save the updated label_encoded dictionary for future use\n",
    "with open(\"label_encoded.pkl\", \"wb\") as f:\n",
    "    pickle.dump(label_encoded, f)"
   ]
  },
  {
   "cell_type": "code",
   "execution_count": 94,
   "metadata": {},
   "outputs": [],
   "source": [
    "# Normalize numerical features\n",
    "scaler = MinMaxScaler()\n",
    "numerical_features = ['tenure', 'MonthlyCharges', 'TotalCharges']\n",
    "df[numerical_features] = scaler.fit_transform(df[numerical_features])\n",
    "\n",
    "# Save the scaler\n",
    "with open(\"scaler.pkl\", \"wb\") as f:\n",
    "    pickle.dump(scaler, f)"
   ]
  },
  {
   "cell_type": "code",
   "execution_count": 95,
   "metadata": {},
   "outputs": [],
   "source": [
    "# Address class imbalance using SMOTE\n",
    "X = df.drop(columns=['Churn'])\n",
    "y = df['Churn']\n",
    "smote = SMOTE(random_state=42)\n",
    "X_resampled, y_resampled = smote.fit_resample(X, y)"
   ]
  },
  {
   "cell_type": "markdown",
   "metadata": {},
   "source": [
    "### 4. Model Selection\n"
   ]
  },
  {
   "cell_type": "code",
   "execution_count": 96,
   "metadata": {},
   "outputs": [
    {
     "name": "stdout",
     "output_type": "stream",
     "text": [
      "\n",
      "Model Comparison:\n",
      "                 Model  Accuracy   ROC-AUC\n",
      "0  Logistic Regression  0.749397  0.834355\n",
      "1        Random Forest  0.997444  0.999862\n"
     ]
    }
   ],
   "source": [
    "# Initialize models to compare\n",
    "models = {\n",
    "    \"Logistic Regression\": LogisticRegression(max_iter=1000, random_state=42),\n",
    "    \"Random Forest\": RandomForestClassifier(random_state=42)\n",
    "}\n",
    "\n",
    "# Compare models using accuracy and ROC-AUC\n",
    "results = []\n",
    "for name, model in models.items():\n",
    "    model.fit(X_resampled, y_resampled)\n",
    "    y_pred = model.predict(X)\n",
    "    y_pred_proba = model.predict_proba(X)[:, 1]\n",
    "    results.append({\n",
    "        \"Model\": name,\n",
    "        \"Accuracy\": accuracy_score(y, y_pred),\n",
    "        \"ROC-AUC\": roc_auc_score(y, y_pred_proba)\n",
    "    })\n",
    "\n",
    "# Display model comparison results\n",
    "results_df = pd.DataFrame(results)\n",
    "print(\"\\nModel Comparison:\")\n",
    "print(results_df)"
   ]
  },
  {
   "cell_type": "markdown",
   "metadata": {},
   "source": [
    "### 5. Building the Best Model"
   ]
  },
  {
   "cell_type": "code",
   "execution_count": 97,
   "metadata": {},
   "outputs": [],
   "source": [
    "# Select Random Forest as the best model\n",
    "best_model = RandomForestClassifier(\n",
    "    n_estimators=100, max_depth=20, min_samples_split=5, random_state=42\n",
    ")\n",
    "best_model.fit(X_resampled, y_resampled)\n",
    "\n",
    "# Save the best model\n",
    "with open(\"best_churn_model.pkl\", \"wb\") as f:\n",
    "    pickle.dump(best_model, f)"
   ]
  },
  {
   "cell_type": "markdown",
   "metadata": {},
   "source": [
    "### 6. Model Evaluation"
   ]
  },
  {
   "cell_type": "code",
   "execution_count": 98,
   "metadata": {},
   "outputs": [
    {
     "name": "stdout",
     "output_type": "stream",
     "text": [
      "\n",
      "Classification Report:\n",
      "              precision    recall  f1-score   support\n",
      "\n",
      "           0       0.98      0.96      0.97      5174\n",
      "           1       0.91      0.95      0.93      1869\n",
      "\n",
      "    accuracy                           0.96      7043\n",
      "   macro avg       0.95      0.96      0.95      7043\n",
      "weighted avg       0.96      0.96      0.96      7043\n",
      "\n",
      "\n",
      "Confusion Matrix:\n",
      "[[4992  182]\n",
      " [  86 1783]]\n"
     ]
    }
   ],
   "source": [
    "# Evaluate the model\n",
    "y_pred = best_model.predict(X)\n",
    "y_pred_proba = best_model.predict_proba(X)[:, 1]\n",
    "\n",
    "print(\"\\nClassification Report:\")\n",
    "print(classification_report(y, y_pred))\n",
    "print(\"\\nConfusion Matrix:\")\n",
    "print(confusion_matrix(y, y_pred))"
   ]
  },
  {
   "cell_type": "code",
   "execution_count": 99,
   "metadata": {},
   "outputs": [
    {
     "data": {
      "image/png": "[encoded data removed]",
      "text/plain": [
       "<Figure size 1400x600 with 1 Axes>"
      ]
     },
     "metadata": {},
     "output_type": "display_data"
    }
   ],
   "source": [
    "# ROC Curve\n",
    "fpr, tpr, _ = roc_curve(y, y_pred_proba)\n",
    "plt.figure(figsize=(14, 6))\n",
    "plt.plot(fpr, tpr, label=f\"ROC Curve (AUC = {roc_auc_score(y, y_pred_proba):.2f})\")\n",
    "plt.xlabel('False Positive Rate')\n",
    "plt.ylabel('True Positive Rate')\n",
    "plt.title('ROC Curve')\n",
    "plt.legend()\n",
    "plt.show()"
   ]
  },
  {
   "cell_type": "markdown",
   "metadata": {},
   "source": [
    "### 7. Prediction System"
   ]
  },
  {
   "cell_type": "code",
   "execution_count": 100,
   "metadata": {},
   "outputs": [],
   "source": [
    "def predict_churn(input_data):\n",
    "    # Load saved encoders, scaler, and model\n",
    "    with open(\"label_encoded.pkl\", \"rb\") as f:\n",
    "        encoders = pickle.load(f)\n",
    "    with open(\"scaler.pkl\", \"rb\") as f:\n",
    "        scaler = pickle.load(f)\n",
    "    with open(\"best_churn_model.pkl\", \"rb\") as f:\n",
    "        model = pickle.load(f)\n",
    "\n",
    "    # Convert input data into a DataFrame\n",
    "    input_df = pd.DataFrame([input_data])\n",
    "\n",
    "    # Transform categorical features using encoders\n",
    "    for column, encoder in encoders.items():\n",
    "        if column in input_df.columns:\n",
    "            try:\n",
    "                input_df[column] = encoder.transform(input_df[column])\n",
    "            except ValueError as e:\n",
    "                raise ValueError(\n",
    "                    f\"ValueError: Input value for column '{column}' does not match training data categories. \"\n",
    "                    f\"Details: {e}\"\n",
    "                )\n",
    "\n",
    "    # Scale numerical features\n",
    "    numerical_features = ['tenure', 'MonthlyCharges', 'TotalCharges']\n",
    "    input_df[numerical_features] = scaler.transform(input_df[numerical_features])\n",
    "\n",
    "    # Make predictions\n",
    "    try:\n",
    "        prediction = model.predict(input_df)\n",
    "        prediction_proba = model.predict_proba(input_df)[:, 1]\n",
    "\n",
    "        result = {\n",
    "            \"Prediction\": \"Churn\" if prediction[0] == 1 else \"No Churn\",\n",
    "            \"Probability\": prediction_proba[0]\n",
    "        }\n",
    "        return result\n",
    "    except Exception as e:\n",
    "        raise ValueError(f\"Error making prediction: {e}\")"
   ]
  },
  {
   "cell_type": "code",
   "execution_count": 101,
   "metadata": {},
   "outputs": [
    {
     "name": "stdout",
     "output_type": "stream",
     "text": [
      "\n",
      "Prediction Results of 5 Customer:\n"
     ]
    },
    {
     "data": {
      "text/html": [
       "<div>\n",
       "<style scoped>\n",
       "    .dataframe tbody tr th:only-of-type {\n",
       "        vertical-align: middle;\n",
       "    }\n",
       "\n",
       "    .dataframe tbody tr th {\n",
       "        vertical-align: top;\n",
       "    }\n",
       "\n",
       "    .dataframe thead th {\n",
       "        text-align: right;\n",
       "    }\n",
       "</style>\n",
       "<table border=\"1\" class=\"dataframe\">\n",
       "  <thead>\n",
       "    <tr style=\"text-align: right;\">\n",
       "      <th></th>\n",
       "      <th>Customer</th>\n",
       "      <th>Prediction</th>\n",
       "      <th>Probability</th>\n",
       "    </tr>\n",
       "  </thead>\n",
       "  <tbody>\n",
       "    <tr>\n",
       "      <th>0</th>\n",
       "      <td>Customer 1</td>\n",
       "      <td>No Churn</td>\n",
       "      <td>0.484119</td>\n",
       "    </tr>\n",
       "    <tr>\n",
       "      <th>1</th>\n",
       "      <td>Customer 2</td>\n",
       "      <td>No Churn</td>\n",
       "      <td>0.032036</td>\n",
       "    </tr>\n",
       "    <tr>\n",
       "      <th>2</th>\n",
       "      <td>Customer 3</td>\n",
       "      <td>No Churn</td>\n",
       "      <td>0.491198</td>\n",
       "    </tr>\n",
       "    <tr>\n",
       "      <th>3</th>\n",
       "      <td>Customer 4</td>\n",
       "      <td>Churn</td>\n",
       "      <td>0.662909</td>\n",
       "    </tr>\n",
       "  </tbody>\n",
       "</table>\n",
       "</div>"
      ],
      "text/plain": [
       "     Customer Prediction  Probability\n",
       "0  Customer 1   No Churn     0.484119\n",
       "1  Customer 2   No Churn     0.032036\n",
       "2  Customer 3   No Churn     0.491198\n",
       "3  Customer 4      Churn     0.662909"
      ]
     },
     "execution_count": 101,
     "metadata": {},
     "output_type": "execute_result"
    }
   ],
   "source": [
    "# Create a function to get the predictions in a DataFrame format\n",
    "def get_prediction_df(input_data_list):\n",
    "    results = []\n",
    "    for i, input_data in enumerate(input_data_list, start=1):\n",
    "        prediction_result = predict_churn(input_data)\n",
    "        results.append({\n",
    "            \"Customer\": f\"Customer {i}\",\n",
    "            \"Prediction\": prediction_result[\"Prediction\"],\n",
    "            \"Probability\": prediction_result[\"Probability\"]\n",
    "        })\n",
    "\n",
    "    # Convert results to a DataFrame\n",
    "    prediction_df = pd.DataFrame(results)\n",
    "    return prediction_df\n",
    "\n",
    "# Create dictionaries for each row of input data\n",
    "# Test the prediction system\n",
    "customer_1 = {\n",
    "    'gender': 'Female',\n",
    "    'SeniorCitizen': 0,\n",
    "    'Partner': 'Yes',\n",
    "    'Dependents': 'No',\n",
    "    'tenure': 12,\n",
    "    'PhoneService': 'Yes',\n",
    "    'MultipleLines': 'No',\n",
    "    'InternetService': 'Fiber optic',\n",
    "    'OnlineSecurity': 'No',\n",
    "    'OnlineBackup': 'Yes',\n",
    "    'DeviceProtection': 'No',\n",
    "    'TechSupport': 'No',\n",
    "    'StreamingTV': 'Yes',\n",
    "    'StreamingMovies': 'No',\n",
    "    'Contract': 'Month-to-month',\n",
    "    'PaperlessBilling': 'Yes',\n",
    "    'PaymentMethod': 'Electronic check',\n",
    "    'MonthlyCharges': 59.99,\n",
    "    'TotalCharges': 29.85,\n",
    "    'TenureGroup': '0-12' \n",
    "}\n",
    "\n",
    "customer_2 = {\n",
    "    'gender': 'Male',\n",
    "    'SeniorCitizen': 0,\n",
    "    'Partner': 'No',\n",
    "    'Dependents': 'No',\n",
    "    'tenure': 34,\n",
    "    'PhoneService': 'Yes',\n",
    "    'MultipleLines': 'No',\n",
    "    'InternetService': 'DSL',\n",
    "    'OnlineSecurity': 'Yes',\n",
    "    'OnlineBackup': 'No',\n",
    "    'DeviceProtection': 'Yes',\n",
    "    'TechSupport': 'No',\n",
    "    'StreamingTV': 'No',\n",
    "    'StreamingMovies': 'No',\n",
    "    'Contract': 'One year',\n",
    "    'PaperlessBilling': 'No',\n",
    "    'PaymentMethod': 'Mailed check',\n",
    "    'MonthlyCharges': 56.95,\n",
    "    'TotalCharges': 1889.5,\n",
    "    'TenureGroup': '13-24'\n",
    "}\n",
    "\n",
    "customer_3 = {\n",
    "    'gender': 'Male',\n",
    "    'SeniorCitizen': 0,\n",
    "    'Partner': 'No',\n",
    "    'Dependents': 'No',\n",
    "    'tenure': 2,\n",
    "    'PhoneService': 'Yes',\n",
    "    'MultipleLines': 'No',\n",
    "    'InternetService': 'DSL',\n",
    "    'OnlineSecurity': 'Yes',\n",
    "    'OnlineBackup': 'Yes',\n",
    "    'DeviceProtection': 'No',\n",
    "    'TechSupport': 'No',\n",
    "    'StreamingTV': 'No',\n",
    "    'StreamingMovies': 'No',\n",
    "    'Contract': 'Month-to-month',\n",
    "    'PaperlessBilling': 'Yes',\n",
    "    'PaymentMethod': 'Mailed check',\n",
    "    'MonthlyCharges': 53.85,\n",
    "    'TotalCharges': 108.15,\n",
    "    'TenureGroup': '25-36'\n",
    "}\n",
    "\n",
    "customer_4 = {\n",
    "    'gender': 'Female',\n",
    "    'SeniorCitizen': 0,\n",
    "    'Partner': 'No',\n",
    "    'Dependents': 'No',\n",
    "    'tenure': 2,\n",
    "    'PhoneService': 'Yes',\n",
    "    'MultipleLines': 'No',\n",
    "    'InternetService': 'Fiber optic',\n",
    "    'OnlineSecurity': 'No',\n",
    "    'OnlineBackup': 'No',\n",
    "    'DeviceProtection': 'No',\n",
    "    'TechSupport': 'No',\n",
    "    'StreamingTV': 'No',\n",
    "    'StreamingMovies': 'No',\n",
    "    'Contract': 'Month-to-month',\n",
    "    'PaperlessBilling': 'Yes',\n",
    "    'PaymentMethod': 'Electronic check',\n",
    "    'MonthlyCharges': 70.7,\n",
    "    'TotalCharges': 151.65,\n",
    "    'TenureGroup': '37-48'\n",
    "}\n",
    "\n",
    "# Get predictions in a DataFrame format\n",
    "input_data_list = [customer_1, customer_2, customer_3, customer_4]\n",
    "predictions_df = get_prediction_df(input_data_list)\n",
    "\n",
    "# Display the prediction DataFrame\n",
    "print(\"\\nPrediction Results of 5 Customer:\")\n",
    "predictions_df"
   ]
  },
  {
   "cell_type": "markdown",
   "metadata": {},
   "source": [
    "### **Insights and Recommendations for Model Evaluation**"
   ]
  },
  {
   "cell_type": "markdown",
   "metadata": {},
   "source": [
    "#### **Model Comparison**\n",
    "| Model               | Accuracy  | ROC-AUC   |\n",
    "|---------------------|-----------|-----------|\n",
    "| Logistic Regression | 0.7494    | 0.8344    |\n",
    "| Random Forest       | 0.9974    | 0.9999    |\n",
    "\n",
    "**Insights**:\n",
    "- **Random Forest** shows an exceptionally high accuracy of **99.74%** and an outstanding **ROC-AUC** of **0.9999**, indicating that it can distinguish between churn and non-churn customers with near-perfect performance. This is ideal for high-stakes environments where accurate prediction is critical.\n",
    "- **Logistic Regression**, while performing well with an accuracy of **74.94%** and a **ROC-AUC** of **0.8344**, lags significantly behind the Random Forest model in predictive power.\n",
    "\n",
    "**Recommendations**:\n",
    "- Consider using **Random Forest** as the primary model for deployment due to its high accuracy and ROC-AUC score.\n",
    "- If interpretability is crucial, use **Logistic Regression** for a simpler and more explainable model, but be aware of its limitations in predictive power.\n",
    "\n",
    "#### **Classification Report**\n",
    "| Class | Precision | Recall | F1-Score | Support |\n",
    "|-------|-----------|--------|----------|---------|\n",
    "| 0     | 0.98      | 0.96   | 0.97     | 5174    |\n",
    "| 1     | 0.91      | 0.95   | 0.93     | 1869    |\n",
    "\n",
    "**Overall Metrics**:\n",
    "- **Accuracy**: **96%** (high level of correct classifications).\n",
    "- **Macro Average**: Precision **0.95**, Recall **0.96**, F1-score **0.95** (indicating balanced performance across classes).\n",
    "- **Weighted Average**: Precision **0.96**, Recall **0.96**, F1-score **0.96** (weighted by support, which indicates good overall model balance).\n",
    "\n",
    "**Insights**:\n",
    "- The model performs very well on the **non-churn class (0)** with a precision of **0.98** and recall of **0.96**, suggesting that it can accurately identify customers who do not churn.\n",
    "- The **churn class (1)** also has a solid performance with a precision of **0.91** and recall of **0.95**, indicating that the model effectively identifies customers who will churn.\n",
    "\n",
    "**Recommendations**:\n",
    "- Consider strategies to further boost the precision for the churn class if necessary, as this may reduce false positives.\n",
    "- Evaluate the impact of potential class imbalance on performance and consider using class weights or techniques like **SMOTE** if the distribution shifts in new data.\n",
    "\n",
    "#### **Confusion Matrix**\n",
    "| Actual/Predicted | No Churn (0) | Churn (1) |\n",
    "|------------------|--------------|-----------|\n",
    "| No Churn (0)     | 4992         | 182       |\n",
    "| Churn (1)        | 86           | 1783      |\n",
    "\n",
    "**Insights**:\n",
    "- The confusion matrix indicates that the model has a relatively low **false positive rate** (182), meaning it does not often misclassify non-churn customers as churn.\n",
    "- The **false negative rate** (86) is moderate, which means there is room for improvement in correctly identifying all customers who will churn.\n",
    "\n",
    "**Recommendations**:\n",
    "- To reduce false negatives (customers predicted not to churn but actually churning), adjust the classification threshold or implement an ensemble approach with model stacking.\n",
    "- Explore model calibration techniques to enhance prediction confidence, particularly for the churn class.\n",
    "\n",
    "#### **Test Predictions Data Overview**\n",
    "| Customer  | Prediction  | Probability |\n",
    "|-----------|-------------|-------------|\n",
    "| Customer 1| No Churn    | 0.4841      |\n",
    "| Customer 2| No Churn    | 0.0320      |\n",
    "| Customer 3| No Churn    | 0.4912      |\n",
    "| Customer 4| Churn       | 0.6629      |\n",
    "\n",
    "**Insights**:\n",
    "- The model provides a **probability score** for each prediction, allowing for more nuanced decision-making. For example, Customer 4 has a probability of **0.6629** for churning, which is a reasonable threshold to act upon.\n",
    "- Review the probability scores to determine a suitable threshold that aligns with the business goal of reducing churn.\n",
    "\n",
    "**Recommendations**:\n",
    "- Utilize the probability scores to implement custom decision thresholds based on business objectives and risk tolerance.\n",
    "- Monitor predictions and retrain the model as more data becomes available to maintain performance.\n",
    "\n",
    "---\n",
    "\n",
    "### **Conclusion**\n",
    "- **Random Forest** is recommended for deployment due to its high accuracy and excellent ROC-AUC.\n",
    "- Consider adjusting the threshold and implementing model calibration for more precise predictions.\n",
    "- Regularly update the model with new data and explore advanced ensemble strategies for continuous improvement.\n",
    "\n",
    "**Next Steps**:\n",
    "- Implement the model in production with regular performance checks.\n",
    "- Set up a dashboard for real-time monitoring and adjust the model based on feedback."
   ]
  }
 ],
 "metadata": {
  "kernelspec": {
   "display_name": "maqbuul",
   "language": "python",
   "name": "python3"
  },
  "language_info": {
   "codemirror_mode": {
    "name": "ipython",
    "version": 3
   },
   "file_extension": ".py",
   "mimetype": "text/x-python",
   "name": "python",
   "nbconvert_exporter": "python",
   "pygments_lexer": "ipython3",
   "version": "3.11.9"
  }
 },
 "nbformat": 4,
 "nbformat_minor": 2
}
